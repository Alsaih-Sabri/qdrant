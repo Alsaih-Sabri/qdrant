{
 "cells": [
  {
   "cell_type": "code",
   "execution_count": 107,
   "metadata": {},
   "outputs": [
    {
     "name": "stdout",
     "output_type": "stream",
     "text": [
      "[{'id': 10136, 'version': 486, 'score': 0.055109024, 'payload': {'cafe': {'address': 'Kopenhagener Str. 12A', 'location': {'lat': 52.54903442589229, 'lon': 13.409768305558718}, 'menu_id': '5f0884e60b8f78538dc16610', 'name': 'Estelle Dining', 'rating': 9.2, 'slug': 'estelle-dining', 'website': 'https://estelle-dining.com'}, 'description': 'vegan\\nwith pumpkin, kale and pumpkin seed salsa', 'image': 'https://wolt-menu-images-cdn.wolt.com/menu-images/5f0884e60b8f78538dc16610/19382e2a-137e-11eb-aec1-5e9d4e986ba7_image0.jpeg', 'image_file': '19382e2a-137e-11eb-aec1-5e9d4e986ba7_image0.jpeg', 'name': 'Pumpkin Pizza'}, 'vector': None}, {'id': 13227, 'version': 625, 'score': 0.046364903, 'payload': {'cafe': {'address': 'Gabriele-Tergit-Promenade 21 - Entrance : Köthener Str.', 'location': {'lat': 52.503923, 'lon': 13.3747721}, 'menu_id': '5fd72bb5663152b79fb2a36a', 'name': 'Pinch', 'rating': 9.6, 'slug': 'pinch', 'website': 'https://pinch-cafe.business.site/'}, 'description': 'mit Ingwer, Kokos Creme und Koriander', 'image': 'https://wolt-menu-images-cdn.wolt.com/menu-images/5fd72bb5663152b79fb2a36a/9edc8b66-3df4-11eb-8f8b-66b7dd87beac_kurbis_suppe.jpeg', 'image_file': '9edc8b66-3df4-11eb-8f8b-66b7dd87beac_kurbis_suppe.jpeg', 'name': 'Kürbis Linsen Suppe'}, 'vector': None}, {'id': 2777, 'version': 136, 'score': 0.04625255, 'payload': {'cafe': {'address': 'Wörther Strasse 25', 'location': {'lat': 52.5358436622732, 'lon': 13.42163777594129}, 'menu_id': '5f5f8d67cba41a1b9a9e05dc', 'name': 'A-Petit Restaurant', 'rating': 8.8, 'slug': 'a-petit-restaurant', 'website': 'http://www.a-petit.de/'}, 'description': 'with organic tofu', 'image': 'https://wolt-menu-images-cdn.wolt.com/menu-images/5f5f8d67cba41a1b9a9e05dc/f4aa4c16-0156-11eb-ab39-a61a62483336_miso_suppe_bio_tofu.jpeg', 'image_file': 'f4aa4c16-0156-11eb-ab39-a61a62483336_miso_suppe_bio_tofu.jpeg', 'name': '501. Miso Soup Organic Tofu'}, 'vector': None}, {'id': 11570, 'version': 545, 'score': 0.046189666, 'payload': {'cafe': {'address': 'Kopenhagener Str. 12A', 'location': {'lat': 52.54903442589229, 'lon': 13.409768305558718}, 'menu_id': '5f0884e60b8f78538dc16610', 'name': 'Estelle Dining', 'rating': 9.2, 'slug': 'estelle-dining', 'website': 'https://estelle-dining.com'}, 'description': 'with apple, sauerkraut and horseradish\\n\\nThis product may contain gluten or products thereof\\n\\n', 'image': 'https://wolt-menu-images-cdn.wolt.com/menu-images/5f0884e60b8f78538dc16610/46fd9196-3b9d-11eb-b4cd-2e418ab05cab_estellle.jpeg', 'image_file': '46fd9196-3b9d-11eb-b4cd-2e418ab05cab_estellle.jpeg', 'name': 'Pizza Blutwurst'}, 'vector': None}, {'id': 3024, 'version': 149, 'score': 0.045474827, 'payload': {'cafe': {'address': 'Schwedter Str. 79', 'location': {'lat': 52.547721029913, 'lon': 13.401155671166824}, 'menu_id': '5fad0ccdad3632046c43af98', 'name': 'Sveda', 'rating': 8.8, 'slug': 'sveda', 'website': 'http://sveda-berlin.de'}, 'description': 'the dish may contain traces of nuts', 'image': 'https://wolt-menu-images-cdn.wolt.com/menu-images/5fad0ccdad3632046c43af98/f2377afa-2805-11eb-8a95-1e9bee7c2f52_bienensrich_brownie.jpeg', 'image_file': 'f2377afa-2805-11eb-8a95-1e9bee7c2f52_bienensrich_brownie.jpeg', 'name': 'Bee Sting Brownie'}, 'vector': None}, {'id': 6643, 'version': 317, 'score': 0.044175744, 'payload': {'cafe': {'address': 'Hufelandstrasse 36', 'location': {'lat': 52.53058, 'lon': 13.43446}, 'menu_id': '5fda164c5fd2d60d496e805a', 'name': 'Mami Camilla', 'rating': 8.6, 'slug': 'mami-camilla', 'website': 'http://www.mamicamilla.de/'}, 'description': 'vegan\\nwith potatoes, onions, rocket basil pesto, walnuts and red onions', 'image': 'https://wolt-menu-images-cdn.wolt.com/menu-images/5fda164c5fd2d60d496e805a/601ee550-54b4-11eb-a5fb-66959e667fa1_mama_camilla.jpeg', 'image_file': '601ee550-54b4-11eb-a5fb-66959e667fa1_mama_camilla.jpeg', 'name': 'Pizza Vegana'}, 'vector': None}, {'id': 146, 'version': 12, 'score': 0.043646812, 'payload': {'cafe': {'address': 'Bänchstrasse 91', 'location': {'lat': 52.51734889999999, 'lon': 13.4713252}, 'menu_id': '5f60cc7f3af53092d7d6546b', 'name': 'Futura Neapolitan Pizza', 'rating': 8.6, 'slug': 'futura-neapolitan-pizza', 'website': 'https://www.futurapizza.com'}, 'description': 'vegan\\nwith peeled yellow tomatoes, small yellow Corbarino tomatoes, garlic, oregano and fresh basil', 'image': 'https://wolt-menu-images-cdn.wolt.com/menu-images/5f60cc7f3af53092d7d6546b/0ee82a0c-fff5-11ea-beaf-fa3e31bf5801_marinara_.jpeg', 'image_file': '0ee82a0c-fff5-11ea-beaf-fa3e31bf5801_marinara_.jpeg', 'name': 'Pizza Marinara'}, 'vector': None}, {'id': 10329, 'version': 488, 'score': 0.042699397, 'payload': {'cafe': {'address': 'Torstraße 195', 'location': {'lat': 52.5282882, 'lon': 13.3919802}, 'menu_id': '5fa97ad67504b173ccdfd7f6', 'name': 'Toca Rouge', 'rating': 8.6, 'slug': 'toca-rouge', 'website': 'http://tocarouge.de/'}, 'description': 'Pumpkin and ginger sweet potato soup with baked prawns\\n\\nThe dish may contain traces of nuts', 'image': 'https://wolt-menu-images-cdn.wolt.com/menu-images/5fa97ad67504b173ccdfd7f6/57718c18-2823-11eb-9e44-867aa5a3152c_toca_rouge_sea_of_love_8747.jpeg', 'image_file': '57718c18-2823-11eb-9e44-867aa5a3152c_toca_rouge_sea_of_love_8747.jpeg', 'name': 'Sea of Love'}, 'vector': None}, {'id': 6041, 'version': 293, 'score': 0.042249978, 'payload': {'cafe': {'address': 'Torstraße 189', 'location': {'lat': 52.52842494597571, 'lon': 13.392690086507711}, 'menu_id': '5faa8e7a4fd096141f3aa42d', 'name': 'MontRaw Restaurant', 'rating': 9.2, 'slug': 'montraw-restaurant', 'website': 'https://montraw.com/'}, 'description': 'chickpeas vegetables and red wine sauce', 'image': 'https://wolt-menu-images-cdn.wolt.com/menu-images/5faa8e7a4fd096141f3aa42d/2f1e766c-2423-11eb-abb0-baf10c9fa000_beef_stew.jpeg', 'image_file': '2f1e766c-2423-11eb-abb0-baf10c9fa000_beef_stew.jpeg', 'name': 'Beef Stew'}, 'vector': None}, {'id': 8659, 'version': 411, 'score': 0.042047918, 'payload': {'cafe': {'address': 'Rykestraße 36', 'location': {'lat': 52.5383161, 'lon': 13.4216901}, 'menu_id': '5fa1603e52fd690a08766812', 'name': 'Ryong Rykestrasse', 'rating': None, 'slug': 'ryong-rykestr', 'website': 'http://ryong.de'}, 'description': 'filled with yogurt cream\\n', 'image': 'https://wolt-menu-images-cdn.wolt.com/menu-images/5fa1603e52fd690a08766812/81cb6dc6-1f40-11eb-9bb1-26edb4b83cc5_dessert_mango_mousse.jpeg', 'image_file': '81cb6dc6-1f40-11eb-9bb1-26edb4b83cc5_dessert_mango_mousse.jpeg', 'name': '31 Mango-Passionfruit-Mousse'}, 'vector': None}]\n"
     ]
    }
   ],
   "source": [
    "import subprocess\n",
    "import json\n",
    "\n",
    "result = subprocess.run([\n",
    "    'target/debug/scorer-playground',\n",
    "    # Add positive and negative ids here\n",
    "    '--positives', '4221', \n",
    "    '--negatives', '4177,2897'\n",
    "    ], stdout=subprocess.PIPE).stdout.decode('utf-8')\n",
    "\n",
    "scored_points = json.loads(result)\n",
    "print(scored_points)"
   ]
  },
  {
   "cell_type": "code",
   "execution_count": 108,
   "metadata": {},
   "outputs": [
    {
     "name": "stdout",
     "output_type": "stream",
     "text": [
      "10136\n"
     ]
    },
    {
     "data": {
      "text/html": [
       "<img src=\"https://wolt-menu-images-cdn.wolt.com/menu-images/5f0884e60b8f78538dc16610/19382e2a-137e-11eb-aec1-5e9d4e986ba7_image0.jpeg\" width=\"300\"/>"
      ],
      "text/plain": [
       "<IPython.core.display.Image object>"
      ]
     },
     "metadata": {},
     "output_type": "display_data"
    },
    {
     "name": "stdout",
     "output_type": "stream",
     "text": [
      "13227\n"
     ]
    },
    {
     "data": {
      "text/html": [
       "<img src=\"https://wolt-menu-images-cdn.wolt.com/menu-images/5fd72bb5663152b79fb2a36a/9edc8b66-3df4-11eb-8f8b-66b7dd87beac_kurbis_suppe.jpeg\" width=\"300\"/>"
      ],
      "text/plain": [
       "<IPython.core.display.Image object>"
      ]
     },
     "metadata": {},
     "output_type": "display_data"
    },
    {
     "name": "stdout",
     "output_type": "stream",
     "text": [
      "2777\n"
     ]
    },
    {
     "data": {
      "text/html": [
       "<img src=\"https://wolt-menu-images-cdn.wolt.com/menu-images/5f5f8d67cba41a1b9a9e05dc/f4aa4c16-0156-11eb-ab39-a61a62483336_miso_suppe_bio_tofu.jpeg\" width=\"300\"/>"
      ],
      "text/plain": [
       "<IPython.core.display.Image object>"
      ]
     },
     "metadata": {},
     "output_type": "display_data"
    },
    {
     "name": "stdout",
     "output_type": "stream",
     "text": [
      "11570\n"
     ]
    },
    {
     "data": {
      "text/html": [
       "<img src=\"https://wolt-menu-images-cdn.wolt.com/menu-images/5f0884e60b8f78538dc16610/46fd9196-3b9d-11eb-b4cd-2e418ab05cab_estellle.jpeg\" width=\"300\"/>"
      ],
      "text/plain": [
       "<IPython.core.display.Image object>"
      ]
     },
     "metadata": {},
     "output_type": "display_data"
    },
    {
     "name": "stdout",
     "output_type": "stream",
     "text": [
      "3024\n"
     ]
    },
    {
     "data": {
      "text/html": [
       "<img src=\"https://wolt-menu-images-cdn.wolt.com/menu-images/5fad0ccdad3632046c43af98/f2377afa-2805-11eb-8a95-1e9bee7c2f52_bienensrich_brownie.jpeg\" width=\"300\"/>"
      ],
      "text/plain": [
       "<IPython.core.display.Image object>"
      ]
     },
     "metadata": {},
     "output_type": "display_data"
    },
    {
     "name": "stdout",
     "output_type": "stream",
     "text": [
      "6643\n"
     ]
    },
    {
     "data": {
      "text/html": [
       "<img src=\"https://wolt-menu-images-cdn.wolt.com/menu-images/5fda164c5fd2d60d496e805a/601ee550-54b4-11eb-a5fb-66959e667fa1_mama_camilla.jpeg\" width=\"300\"/>"
      ],
      "text/plain": [
       "<IPython.core.display.Image object>"
      ]
     },
     "metadata": {},
     "output_type": "display_data"
    },
    {
     "name": "stdout",
     "output_type": "stream",
     "text": [
      "146\n"
     ]
    },
    {
     "data": {
      "text/html": [
       "<img src=\"https://wolt-menu-images-cdn.wolt.com/menu-images/5f60cc7f3af53092d7d6546b/0ee82a0c-fff5-11ea-beaf-fa3e31bf5801_marinara_.jpeg\" width=\"300\"/>"
      ],
      "text/plain": [
       "<IPython.core.display.Image object>"
      ]
     },
     "metadata": {},
     "output_type": "display_data"
    },
    {
     "name": "stdout",
     "output_type": "stream",
     "text": [
      "10329\n"
     ]
    },
    {
     "data": {
      "text/html": [
       "<img src=\"https://wolt-menu-images-cdn.wolt.com/menu-images/5fa97ad67504b173ccdfd7f6/57718c18-2823-11eb-9e44-867aa5a3152c_toca_rouge_sea_of_love_8747.jpeg\" width=\"300\"/>"
      ],
      "text/plain": [
       "<IPython.core.display.Image object>"
      ]
     },
     "metadata": {},
     "output_type": "display_data"
    },
    {
     "name": "stdout",
     "output_type": "stream",
     "text": [
      "6041\n"
     ]
    },
    {
     "data": {
      "text/html": [
       "<img src=\"https://wolt-menu-images-cdn.wolt.com/menu-images/5faa8e7a4fd096141f3aa42d/2f1e766c-2423-11eb-abb0-baf10c9fa000_beef_stew.jpeg\" width=\"300\"/>"
      ],
      "text/plain": [
       "<IPython.core.display.Image object>"
      ]
     },
     "metadata": {},
     "output_type": "display_data"
    },
    {
     "name": "stdout",
     "output_type": "stream",
     "text": [
      "8659\n"
     ]
    },
    {
     "data": {
      "text/html": [
       "<img src=\"https://wolt-menu-images-cdn.wolt.com/menu-images/5fa1603e52fd690a08766812/81cb6dc6-1f40-11eb-9bb1-26edb4b83cc5_dessert_mango_mousse.jpeg\" width=\"300\"/>"
      ],
      "text/plain": [
       "<IPython.core.display.Image object>"
      ]
     },
     "metadata": {},
     "output_type": "display_data"
    }
   ],
   "source": [
    "from IPython.display import Image\n",
    "\n",
    "for point in scored_points:\n",
    "    print(point[\"id\"])\n",
    "    image = (point[\"payload\"]['image'])\n",
    "    display(Image(url= image, width=300))"
   ]
  },
  {
   "cell_type": "code",
   "execution_count": null,
   "metadata": {},
   "outputs": [],
   "source": []
  }
 ],
 "metadata": {
  "kernelspec": {
   "display_name": "base",
   "language": "python",
   "name": "python3"
  },
  "language_info": {
   "codemirror_mode": {
    "name": "ipython",
    "version": 3
   },
   "file_extension": ".py",
   "mimetype": "text/x-python",
   "name": "python",
   "nbconvert_exporter": "python",
   "pygments_lexer": "ipython3",
   "version": "3.10.12"
  },
  "orig_nbformat": 4
 },
 "nbformat": 4,
 "nbformat_minor": 2
}
