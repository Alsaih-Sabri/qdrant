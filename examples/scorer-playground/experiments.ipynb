{
 "cells": [
  {
   "cell_type": "code",
   "execution_count": 404,
   "metadata": {},
   "outputs": [],
   "source": [
    "import subprocess\n",
    "import json\n",
    "import os\n",
    "import time\n",
    "\n",
    "from qdrant_client import QdrantClient\n",
    "\n",
    "def reco(positives=[], negatives=[], top=10):\n",
    "    positives_cli = []\n",
    "    negatives_cli = []\n",
    "    \n",
    "    if len(positives) > 0:\n",
    "        positives_cli = ['--positives', ','.join([str(p) for p in positives])]\n",
    "    \n",
    "    if len(negatives) > 0:\n",
    "        negatives_cli = ['--negatives', ','.join([str(n) for n in negatives])]\n",
    "        \n",
    "    result = subprocess.run([\n",
    "        'target/debug/scorer-playground',\n",
    "        # Add positive and negative ids here\n",
    "        *positives_cli,\n",
    "        *negatives_cli,\n",
    "        '--top', str(top),\n",
    "        ], stdout=subprocess.PIPE).stdout.decode('utf-8')\n",
    "    \n",
    "    graph_scored_points = json.loads(result)\n",
    "    \n",
    "    result = subprocess.run([\n",
    "        'target/debug/scorer-playground',\n",
    "        # Add positive and negative ids here\n",
    "        *positives_cli,\n",
    "        *negatives_cli,\n",
    "        '--full-scan',\n",
    "        '--top', str(top),\n",
    "        ], stdout=subprocess.PIPE).stdout.decode('utf-8')\n",
    "    \n",
    "    plain_scored_points = json.loads(result)\n",
    "    \n",
    "    # turn qdrant on\n",
    "    os.system(\"cd ../.. && $(target/debug/qdrant) &\")\n",
    "    \n",
    "    time.sleep(3)\n",
    "    \n",
    "    print('qdrant active on the background')\n",
    "    \n",
    "    qdrant_client = QdrantClient(\"localhost\", port=6333)\n",
    "    \n",
    "    client_scored_points = qdrant_client.recommend(\n",
    "        collection_name=\"food-plain\",\n",
    "        negative=negatives,\n",
    "        positive=positives,\n",
    "        limit=top,\n",
    "    )\n",
    "    \n",
    "    # turn qdrant off\n",
    "    !kill -9 $(pidof qdrant)\n",
    "    print('qdrant killed')\n",
    "    \n",
    "    \n",
    "    \n",
    "    return (graph_scored_points, plain_scored_points, \n",
    "            client_scored_points\n",
    "            )"
   ]
  },
  {
   "cell_type": "code",
   "execution_count": 405,
   "metadata": {},
   "outputs": [
    {
     "name": "stdout",
     "output_type": "stream",
     "text": [
      "qdrant active on the background\n",
      "qdrant killed\n"
     ]
    },
    {
     "name": "stderr",
     "output_type": "stream",
     "text": [
      "sh: _: command not found\n"
     ]
    }
   ],
   "source": [
    "(graph, plain, \n",
    " client\n",
    " ) = reco(\n",
    "    positives=[17,12557],\n",
    "    negatives=[1111, 11258, 8350, 12728, 3970,2579, 10372, 11877,11517,12317,2166,8141],\n",
    "    top=10,\n",
    ")\n",
    "\n",
    "#2342"
   ]
  },
  {
   "cell_type": "code",
   "execution_count": 406,
   "metadata": {},
   "outputs": [
    {
     "data": {
      "text/html": [
       "\n",
       "<div style='display:flex;'>\n",
       "    <div style=\"margin:40px\">\n",
       "        <h1>Custom reco (graph)</h1><img  width=300 height=0>\n",
       "    </div>\n",
       "    <div style=\"margin:40px\">\n",
       "        <h1>Custom reco (full-scan)</h1><img  width=300 height=0>\n",
       "    </div>\n",
       "    <div style=\"margin:40px\">\n",
       "        <h1>Current reco</h1><img  width=300 height=0>\n",
       "    </div>\n",
       "</div>\n"
      ],
      "text/plain": [
       "<IPython.core.display.HTML object>"
      ]
     },
     "metadata": {},
     "output_type": "display_data"
    },
    {
     "data": {
      "text/html": [
       "\n",
       "<div style='display:flex;'>\n",
       "    <p>#1</p>\n",
       "    <div style=\"margin:40px\">\n",
       "        <p>id: 12557, score: 1.0000001</p><img src=https://wolt-menu-images-cdn.wolt.com/menu-images/5f80677e6c0ef96a028c4546/537f806a-0a37-11eb-9baf-026f9d1ac891_sandwiches_bagel_frishkaese.jpeg width=300>\n",
       "    </div>\n",
       "    <div style=\"margin:40px\">\n",
       "       <p>id: 12557, score: 1.0000001</p><img src=https://wolt-menu-images-cdn.wolt.com/menu-images/5f80677e6c0ef96a028c4546/537f806a-0a37-11eb-9baf-026f9d1ac891_sandwiches_bagel_frishkaese.jpeg width=300>\n",
       "    </div>\n",
       "    <div style=\"margin:40px\">\n",
       "       <p>id: 883, score: 0.8720139</p><img src=https://wolt-menu-images-cdn.wolt.com/menu-images/5f80677e6c0ef96a028c4546/7bfaf112-0a39-11eb-9d62-5a0570baa41f_sandwiches_bagel_lachs.jpeg width=300>\n",
       "    </div>\n",
       "</div>\n",
       "    "
      ],
      "text/plain": [
       "<IPython.core.display.HTML object>"
      ]
     },
     "metadata": {},
     "output_type": "display_data"
    },
    {
     "data": {
      "text/html": [
       "\n",
       "<div style='display:flex;'>\n",
       "    <p>#2</p>\n",
       "    <div style=\"margin:40px\">\n",
       "        <p>id: 17, score: 1.0</p><img src=https://wolt-menu-images-cdn.wolt.com/menu-images/5fb55ae79a2d849bc5116708/e0681fe0-2a5e-11eb-a1d3-3696470fb5ed_barettino__panino_sermone_2.jpeg width=300>\n",
       "    </div>\n",
       "    <div style=\"margin:40px\">\n",
       "       <p>id: 17, score: 1.0</p><img src=https://wolt-menu-images-cdn.wolt.com/menu-images/5fb55ae79a2d849bc5116708/e0681fe0-2a5e-11eb-a1d3-3696470fb5ed_barettino__panino_sermone_2.jpeg width=300>\n",
       "    </div>\n",
       "    <div style=\"margin:40px\">\n",
       "       <p>id: 12150, score: 0.83385175</p><img src=https://wolt-menu-images-cdn.wolt.com/menu-images/5f043826100592695d721d9f/7ee6e8e8-c04e-11ea-bfa5-ba9a78f29b1e_rosenburger_berlin_14.jpeg width=300>\n",
       "    </div>\n",
       "</div>\n",
       "    "
      ],
      "text/plain": [
       "<IPython.core.display.HTML object>"
      ]
     },
     "metadata": {},
     "output_type": "display_data"
    },
    {
     "data": {
      "text/html": [
       "\n",
       "<div style='display:flex;'>\n",
       "    <p>#3</p>\n",
       "    <div style=\"margin:40px\">\n",
       "        <p>id: 883, score: 0.94263804</p><img src=https://wolt-menu-images-cdn.wolt.com/menu-images/5f80677e6c0ef96a028c4546/7bfaf112-0a39-11eb-9d62-5a0570baa41f_sandwiches_bagel_lachs.jpeg width=300>\n",
       "    </div>\n",
       "    <div style=\"margin:40px\">\n",
       "       <p>id: 883, score: 0.94263804</p><img src=https://wolt-menu-images-cdn.wolt.com/menu-images/5f80677e6c0ef96a028c4546/7bfaf112-0a39-11eb-9d62-5a0570baa41f_sandwiches_bagel_lachs.jpeg width=300>\n",
       "    </div>\n",
       "    <div style=\"margin:40px\">\n",
       "       <p>id: 2267, score: 0.8272167</p><img src=https://wolt-menu-images-cdn.wolt.com/menu-images/5f043826100592695d721d9f/bae76dfe-c04e-11ea-a291-129267df3c9d_rosenburger_berlin_19.jpeg width=300>\n",
       "    </div>\n",
       "</div>\n",
       "    "
      ],
      "text/plain": [
       "<IPython.core.display.HTML object>"
      ]
     },
     "metadata": {},
     "output_type": "display_data"
    },
    {
     "data": {
      "text/html": [
       "\n",
       "<div style='display:flex;'>\n",
       "    <p>#4</p>\n",
       "    <div style=\"margin:40px\">\n",
       "        <p>id: 12150, score: 0.9120082</p><img src=https://wolt-menu-images-cdn.wolt.com/menu-images/5f043826100592695d721d9f/7ee6e8e8-c04e-11ea-bfa5-ba9a78f29b1e_rosenburger_berlin_14.jpeg width=300>\n",
       "    </div>\n",
       "    <div style=\"margin:40px\">\n",
       "       <p>id: 12150, score: 0.9120082</p><img src=https://wolt-menu-images-cdn.wolt.com/menu-images/5f043826100592695d721d9f/7ee6e8e8-c04e-11ea-bfa5-ba9a78f29b1e_rosenburger_berlin_14.jpeg width=300>\n",
       "    </div>\n",
       "    <div style=\"margin:40px\">\n",
       "       <p>id: 11598, score: 0.8260797</p><img src=https://wolt-menu-images-cdn.wolt.com/menu-images/5fbe46e31a1d9f0dc21d9247/271848e6-2fcf-11eb-8196-aaa38f6ec784_kala_lachs_bagel.jpeg width=300>\n",
       "    </div>\n",
       "</div>\n",
       "    "
      ],
      "text/plain": [
       "<IPython.core.display.HTML object>"
      ]
     },
     "metadata": {},
     "output_type": "display_data"
    },
    {
     "data": {
      "text/html": [
       "\n",
       "<div style='display:flex;'>\n",
       "    <p>#5</p>\n",
       "    <div style=\"margin:40px\">\n",
       "        <p>id: 11598, score: 0.89905834</p><img src=https://wolt-menu-images-cdn.wolt.com/menu-images/5fbe46e31a1d9f0dc21d9247/271848e6-2fcf-11eb-8196-aaa38f6ec784_kala_lachs_bagel.jpeg width=300>\n",
       "    </div>\n",
       "    <div style=\"margin:40px\">\n",
       "       <p>id: 11598, score: 0.89905834</p><img src=https://wolt-menu-images-cdn.wolt.com/menu-images/5fbe46e31a1d9f0dc21d9247/271848e6-2fcf-11eb-8196-aaa38f6ec784_kala_lachs_bagel.jpeg width=300>\n",
       "    </div>\n",
       "    <div style=\"margin:40px\">\n",
       "       <p>id: 5725, score: 0.8254584</p><img src=https://wolt-menu-images-cdn.wolt.com/menu-images/5fca25105c24fec99f677cc5/37c6dd9c-3b00-11eb-82d4-fa3f5b7b2b98_tofu_burger.jpeg width=300>\n",
       "    </div>\n",
       "</div>\n",
       "    "
      ],
      "text/plain": [
       "<IPython.core.display.HTML object>"
      ]
     },
     "metadata": {},
     "output_type": "display_data"
    },
    {
     "data": {
      "text/html": [
       "\n",
       "<div style='display:flex;'>\n",
       "    <p>#6</p>\n",
       "    <div style=\"margin:40px\">\n",
       "        <p>id: 13539, score: 0.89625764</p><img src=https://wolt-menu-images-cdn.wolt.com/menu-images/5fbe46e31a1d9f0dc21d9247/6bf3262c-2fcd-11eb-a5e7-fe25b7917437_kala_ka_se_bagel.jpeg width=300>\n",
       "    </div>\n",
       "    <div style=\"margin:40px\">\n",
       "       <p>id: 13539, score: 0.89625764</p><img src=https://wolt-menu-images-cdn.wolt.com/menu-images/5fbe46e31a1d9f0dc21d9247/6bf3262c-2fcd-11eb-a5e7-fe25b7917437_kala_ka_se_bagel.jpeg width=300>\n",
       "    </div>\n",
       "    <div style=\"margin:40px\">\n",
       "       <p>id: 1626, score: 0.8222544</p><img src=https://wolt-menu-images-cdn.wolt.com/menu-images/5fd9f1190108bddcebe93a45/b09c173e-4071-11eb-9ce4-42600f201fc3_galao_toasta_italia_2.jpeg width=300>\n",
       "    </div>\n",
       "</div>\n",
       "    "
      ],
      "text/plain": [
       "<IPython.core.display.HTML object>"
      ]
     },
     "metadata": {},
     "output_type": "display_data"
    },
    {
     "data": {
      "text/html": [
       "\n",
       "<div style='display:flex;'>\n",
       "    <p>#7</p>\n",
       "    <div style=\"margin:40px\">\n",
       "        <p>id: 2267, score: 0.895342</p><img src=https://wolt-menu-images-cdn.wolt.com/menu-images/5f043826100592695d721d9f/bae76dfe-c04e-11ea-a291-129267df3c9d_rosenburger_berlin_19.jpeg width=300>\n",
       "    </div>\n",
       "    <div style=\"margin:40px\">\n",
       "       <p>id: 2267, score: 0.895342</p><img src=https://wolt-menu-images-cdn.wolt.com/menu-images/5f043826100592695d721d9f/bae76dfe-c04e-11ea-a291-129267df3c9d_rosenburger_berlin_19.jpeg width=300>\n",
       "    </div>\n",
       "    <div style=\"margin:40px\">\n",
       "       <p>id: 5553, score: 0.8221161</p><img src=https://wolt-menu-images-cdn.wolt.com/menu-images/5fd49c118a4399dfd5bdb4c1/b5e164de-407a-11eb-aae5-0ab5eb8308d3_re_cucina_panini_parmaschinken.jpeg width=300>\n",
       "    </div>\n",
       "</div>\n",
       "    "
      ],
      "text/plain": [
       "<IPython.core.display.HTML object>"
      ]
     },
     "metadata": {},
     "output_type": "display_data"
    },
    {
     "data": {
      "text/html": [
       "\n",
       "<div style='display:flex;'>\n",
       "    <p>#8</p>\n",
       "    <div style=\"margin:40px\">\n",
       "        <p>id: 4599, score: 0.89484894</p><img src=https://wolt-menu-images-cdn.wolt.com/menu-images/5fbe46e31a1d9f0dc21d9247/9a6ad24e-2fcc-11eb-86c7-c2f98af35f44_kala_frischka_se_bagel.jpeg width=300>\n",
       "    </div>\n",
       "    <div style=\"margin:40px\">\n",
       "       <p>id: 4599, score: 0.89484894</p><img src=https://wolt-menu-images-cdn.wolt.com/menu-images/5fbe46e31a1d9f0dc21d9247/9a6ad24e-2fcc-11eb-86c7-c2f98af35f44_kala_frischka_se_bagel.jpeg width=300>\n",
       "    </div>\n",
       "    <div style=\"margin:40px\">\n",
       "       <p>id: 9805, score: 0.8194722</p><img src=https://wolt-menu-images-cdn.wolt.com/menu-images/5f645b52ff2fde752986d3ba/72344544-0169-11eb-bb13-5aadf71fea5f_chef_s_deli.jpeg width=300>\n",
       "    </div>\n",
       "</div>\n",
       "    "
      ],
      "text/plain": [
       "<IPython.core.display.HTML object>"
      ]
     },
     "metadata": {},
     "output_type": "display_data"
    },
    {
     "data": {
      "text/html": [
       "\n",
       "<div style='display:flex;'>\n",
       "    <p>#9</p>\n",
       "    <div style=\"margin:40px\">\n",
       "        <p>id: 4337, score: 0.8930056</p><img src=https://wolt-menu-images-cdn.wolt.com/menu-images/5fb55ae79a2d849bc5116708/77a282c4-2a4b-11eb-a27e-3a4be5f8007d_barettino__panino_coppa_nostra.jpeg width=300>\n",
       "    </div>\n",
       "    <div style=\"margin:40px\">\n",
       "       <p>id: 4337, score: 0.8930056</p><img src=https://wolt-menu-images-cdn.wolt.com/menu-images/5fb55ae79a2d849bc5116708/77a282c4-2a4b-11eb-a27e-3a4be5f8007d_barettino__panino_coppa_nostra.jpeg width=300>\n",
       "    </div>\n",
       "    <div style=\"margin:40px\">\n",
       "       <p>id: 4599, score: 0.81945455</p><img src=https://wolt-menu-images-cdn.wolt.com/menu-images/5fbe46e31a1d9f0dc21d9247/9a6ad24e-2fcc-11eb-86c7-c2f98af35f44_kala_frischka_se_bagel.jpeg width=300>\n",
       "    </div>\n",
       "</div>\n",
       "    "
      ],
      "text/plain": [
       "<IPython.core.display.HTML object>"
      ]
     },
     "metadata": {},
     "output_type": "display_data"
    },
    {
     "data": {
      "text/html": [
       "\n",
       "<div style='display:flex;'>\n",
       "    <p>#10</p>\n",
       "    <div style=\"margin:40px\">\n",
       "        <p>id: 13300, score: 0.89298964</p><img src=https://wolt-menu-images-cdn.wolt.com/menu-images/5fb55ae79a2d849bc5116708/63b3196e-2a5e-11eb-847a-de903fe58bfe_barettino__panino_della_madonna.jpeg width=300>\n",
       "    </div>\n",
       "    <div style=\"margin:40px\">\n",
       "       <p>id: 13300, score: 0.89298964</p><img src=https://wolt-menu-images-cdn.wolt.com/menu-images/5fb55ae79a2d849bc5116708/63b3196e-2a5e-11eb-847a-de903fe58bfe_barettino__panino_della_madonna.jpeg width=300>\n",
       "    </div>\n",
       "    <div style=\"margin:40px\">\n",
       "       <p>id: 5783, score: 0.8142338</p><img src=https://wolt-menu-images-cdn.wolt.com/menu-images/5fbe46e31a1d9f0dc21d9247/89c2d2c2-2fca-11eb-aa97-1e002bca8d62_kala_baguette_putenbrust.jpeg width=300>\n",
       "    </div>\n",
       "</div>\n",
       "    "
      ],
      "text/plain": [
       "<IPython.core.display.HTML object>"
      ]
     },
     "metadata": {},
     "output_type": "display_data"
    }
   ],
   "source": [
    "from IPython.display import Image, HTML\n",
    "\n",
    "display(HTML(f\"\"\"\n",
    "<div style='display:flex;'>\n",
    "    <div style=\"margin:40px\">\n",
    "        <h1>Custom reco (graph)</h1><img  width=300 height=0>\n",
    "    </div>\n",
    "    <div style=\"margin:40px\">\n",
    "        <h1>Custom reco (full-scan)</h1><img  width=300 height=0>\n",
    "    </div>\n",
    "    <div style=\"margin:40px\">\n",
    "        <h1>Current reco</h1><img  width=300 height=0>\n",
    "    </div>\n",
    "</div>\n",
    "\"\"\"))\n",
    "\n",
    "for i, (graph_point, plain_point, client_point) in enumerate(zip(graph, plain, client)):\n",
    "    graph_id = graph_point[\"id\"]\n",
    "    graph_score = (graph_point[\"score\"])\n",
    "    graph_image = (graph_point[\"payload\"]['image'])\n",
    "    \n",
    "    plain_id = plain_point[\"id\"]\n",
    "    plain_score = (plain_point[\"score\"])\n",
    "    plain_image = (plain_point[\"payload\"]['image'])\n",
    "    \n",
    "    client_id = client_point.id\n",
    "    client_score = client_point.score\n",
    "    client_image = client_point.payload['image']\n",
    "    \n",
    "    display(HTML(f\"\"\"\n",
    "<div style='display:flex;'>\n",
    "    <p>#{i+1}</p>\n",
    "    <div style=\"margin:40px\">\n",
    "        <p>id: {graph_id}, score: {graph_score}</p><img src={graph_image} width=300>\n",
    "    </div>\n",
    "    <div style=\"margin:40px\">\n",
    "       <p>id: {plain_id}, score: {plain_score}</p><img src={plain_image} width=300>\n",
    "    </div>\n",
    "    <div style=\"margin:40px\">\n",
    "       <p>id: {client_id}, score: {client_score}</p><img src={client_image} width=300>\n",
    "    </div>\n",
    "</div>\n",
    "    \"\"\"))"
   ]
  },
  {
   "cell_type": "code",
   "execution_count": null,
   "metadata": {},
   "outputs": [],
   "source": []
  }
 ],
 "metadata": {
  "kernelspec": {
   "display_name": "base",
   "language": "python",
   "name": "python3"
  },
  "language_info": {
   "codemirror_mode": {
    "name": "ipython",
    "version": 3
   },
   "file_extension": ".py",
   "mimetype": "text/x-python",
   "name": "python",
   "nbconvert_exporter": "python",
   "pygments_lexer": "ipython3",
   "version": "3.10.12"
  },
  "orig_nbformat": 4
 },
 "nbformat": 4,
 "nbformat_minor": 2
}
