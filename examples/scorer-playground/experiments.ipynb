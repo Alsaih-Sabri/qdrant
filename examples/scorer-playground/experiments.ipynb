{
 "cells": [
  {
   "cell_type": "code",
   "execution_count": 223,
   "metadata": {},
   "outputs": [],
   "source": [
    "import subprocess\n",
    "import json\n",
    "\n",
    "def reco(positives=[], negatives=[], top=10):\n",
    "    print(positives)\n",
    "    if len(positives) > 0:\n",
    "        positives = ['--positives', ','.join([str(p) for p in positives])]\n",
    "    \n",
    "    if len(negatives) > 0:\n",
    "        negatives = ['--negatives', ','.join([str(n) for n in negatives])]\n",
    "        \n",
    "    print(positives)\n",
    "    print(negatives)\n",
    "    result = subprocess.run([\n",
    "        'target/debug/scorer-playground',\n",
    "        # Add positive and negative ids here\n",
    "        *positives,\n",
    "        *negatives,\n",
    "        '--top', str(top),\n",
    "        ], stdout=subprocess.PIPE).stdout.decode('utf-8')\n",
    "    \n",
    "    graph_scored_points = json.loads(result)\n",
    "    \n",
    "    result = subprocess.run([\n",
    "        'target/debug/scorer-playground',\n",
    "        # Add positive and negative ids here\n",
    "        *positives,\n",
    "        *negatives,\n",
    "        '--full-scan',\n",
    "        '--top', str(top),\n",
    "        ], stdout=subprocess.PIPE).stdout.decode('utf-8')\n",
    "    \n",
    "    plain_scored_points = json.loads(result)\n",
    "    \n",
    "    return (graph_scored_points, plain_scored_points)"
   ]
  },
  {
   "cell_type": "code",
   "execution_count": 230,
   "metadata": {},
   "outputs": [
    {
     "name": "stdout",
     "output_type": "stream",
     "text": [
      "[7777]\n",
      "['--positives', '7777']\n",
      "['--negatives', '6372']\n"
     ]
    }
   ],
   "source": [
    "(graph, plain) = reco(\n",
    "    positives=[7777],\n",
    "    negatives=[6372]\n",
    "    )"
   ]
  },
  {
   "cell_type": "code",
   "execution_count": 231,
   "metadata": {},
   "outputs": [
    {
     "data": {
      "text/html": [
       "\n",
       "<div style='display:flex;'>\n",
       "    <div style=\"margin:40px\">\n",
       "        <h1>Custom reco (graph)</h1><img  width=300 height=0>\n",
       "    </div>\n",
       "    <div style=\"margin:40px\">\n",
       "        <h1>Custom reco (full-scan)</h1><img  width=300 height=0>\n",
       "    </div>\n",
       "    <div style=\"margin:40px\">\n",
       "        <h1>Current reco</h1><img  width=300 height=0>\n",
       "    </div>\n",
       "</div>\n"
      ],
      "text/plain": [
       "<IPython.core.display.HTML object>"
      ]
     },
     "metadata": {},
     "output_type": "display_data"
    },
    {
     "data": {
      "text/html": [
       "\n",
       "<div style='display:flex;'>\n",
       "    <div style=\"margin:40px\">\n",
       "        <p>id: 7290, score: 0.08379328</p><img src=https://wolt-menu-images-cdn.wolt.com/menu-images/5f1ec3d274251b1cf6a58411/2ffa9608-d589-11ea-ab40-7a83befbe845_pikantes_schweineruckensteak.jpeg width=300>\n",
       "    </div>\n",
       "    <div style=\"margin:40px\">\n",
       "       <p>id: 7290, score: 0.08379328</p><img src=https://wolt-menu-images-cdn.wolt.com/menu-images/5f1ec3d274251b1cf6a58411/2ffa9608-d589-11ea-ab40-7a83befbe845_pikantes_schweineruckensteak.jpeg width=300>\n",
       "    </div>\n",
       "</div>\n",
       "    "
      ],
      "text/plain": [
       "<IPython.core.display.HTML object>"
      ]
     },
     "metadata": {},
     "output_type": "display_data"
    },
    {
     "data": {
      "text/html": [
       "\n",
       "<div style='display:flex;'>\n",
       "    <div style=\"margin:40px\">\n",
       "        <p>id: 4201, score: 0.082731664</p><img src=https://wolt-menu-images-cdn.wolt.com/menu-images/5fc92d9b7260e4e05e100254/2addb0ce-3a0b-11eb-a425-3a5f05a6f00a_vegetable_kottu.jpeg width=300>\n",
       "    </div>\n",
       "    <div style=\"margin:40px\">\n",
       "       <p>id: 4201, score: 0.082731664</p><img src=https://wolt-menu-images-cdn.wolt.com/menu-images/5fc92d9b7260e4e05e100254/2addb0ce-3a0b-11eb-a425-3a5f05a6f00a_vegetable_kottu.jpeg width=300>\n",
       "    </div>\n",
       "</div>\n",
       "    "
      ],
      "text/plain": [
       "<IPython.core.display.HTML object>"
      ]
     },
     "metadata": {},
     "output_type": "display_data"
    },
    {
     "data": {
      "text/html": [
       "\n",
       "<div style='display:flex;'>\n",
       "    <div style=\"margin:40px\">\n",
       "        <p>id: 1602, score: 0.082731664</p><img src=https://wolt-menu-images-cdn.wolt.com/menu-images/5fc92d9b7260e4e05e100254/6fe87156-3a04-11eb-85f5-86b932f2f9be_vegetable_kottu.jpeg width=300>\n",
       "    </div>\n",
       "    <div style=\"margin:40px\">\n",
       "       <p>id: 1602, score: 0.082731664</p><img src=https://wolt-menu-images-cdn.wolt.com/menu-images/5fc92d9b7260e4e05e100254/6fe87156-3a04-11eb-85f5-86b932f2f9be_vegetable_kottu.jpeg width=300>\n",
       "    </div>\n",
       "</div>\n",
       "    "
      ],
      "text/plain": [
       "<IPython.core.display.HTML object>"
      ]
     },
     "metadata": {},
     "output_type": "display_data"
    },
    {
     "data": {
      "text/html": [
       "\n",
       "<div style='display:flex;'>\n",
       "    <div style=\"margin:40px\">\n",
       "        <p>id: 1003, score: 0.077705264</p><img src=https://wolt-menu-images-cdn.wolt.com/menu-images/5f9d4a8b979cd6b35e32b1b8/f9aa585e-1cf5-11eb-848e-0643db816de4__le_cellier_ochsenb_ckchen_apfelrotkohl___semmelkn_de.jpeg width=300>\n",
       "    </div>\n",
       "    <div style=\"margin:40px\">\n",
       "       <p>id: 1003, score: 0.077705264</p><img src=https://wolt-menu-images-cdn.wolt.com/menu-images/5f9d4a8b979cd6b35e32b1b8/f9aa585e-1cf5-11eb-848e-0643db816de4__le_cellier_ochsenb_ckchen_apfelrotkohl___semmelkn_de.jpeg width=300>\n",
       "    </div>\n",
       "</div>\n",
       "    "
      ],
      "text/plain": [
       "<IPython.core.display.HTML object>"
      ]
     },
     "metadata": {},
     "output_type": "display_data"
    },
    {
     "data": {
      "text/html": [
       "\n",
       "<div style='display:flex;'>\n",
       "    <div style=\"margin:40px\">\n",
       "        <p>id: 9846, score: 0.07761258</p><img src=https://wolt-menu-images-cdn.wolt.com/menu-images/5fd8de52317a15065208632c/37140500-3f9c-11eb-b722-e6c38739326f_bacon_mac_n_cheese_.jpeg width=300>\n",
       "    </div>\n",
       "    <div style=\"margin:40px\">\n",
       "       <p>id: 9846, score: 0.07761258</p><img src=https://wolt-menu-images-cdn.wolt.com/menu-images/5fd8de52317a15065208632c/37140500-3f9c-11eb-b722-e6c38739326f_bacon_mac_n_cheese_.jpeg width=300>\n",
       "    </div>\n",
       "</div>\n",
       "    "
      ],
      "text/plain": [
       "<IPython.core.display.HTML object>"
      ]
     },
     "metadata": {},
     "output_type": "display_data"
    },
    {
     "data": {
      "text/html": [
       "\n",
       "<div style='display:flex;'>\n",
       "    <div style=\"margin:40px\">\n",
       "        <p>id: 2015, score: 0.07389021</p><img src=https://wolt-menu-images-cdn.wolt.com/menu-images/5f3e7ba809900d7b465f1bab/674f87b4-fcc4-11ea-b913-5eab0dc36cd0_magdons.jpeg width=300>\n",
       "    </div>\n",
       "    <div style=\"margin:40px\">\n",
       "       <p>id: 2015, score: 0.07389021</p><img src=https://wolt-menu-images-cdn.wolt.com/menu-images/5f3e7ba809900d7b465f1bab/674f87b4-fcc4-11ea-b913-5eab0dc36cd0_magdons.jpeg width=300>\n",
       "    </div>\n",
       "</div>\n",
       "    "
      ],
      "text/plain": [
       "<IPython.core.display.HTML object>"
      ]
     },
     "metadata": {},
     "output_type": "display_data"
    },
    {
     "data": {
      "text/html": [
       "\n",
       "<div style='display:flex;'>\n",
       "    <div style=\"margin:40px\">\n",
       "        <p>id: 7028, score: 0.073607266</p><img src=https://wolt-menu-images-cdn.wolt.com/menu-images/5f1ec3d274251b1cf6a58411/3bf863cc-d589-11ea-80bf-4221e6cb8fe7_pulled_pork.jpeg width=300>\n",
       "    </div>\n",
       "    <div style=\"margin:40px\">\n",
       "       <p>id: 7028, score: 0.073607266</p><img src=https://wolt-menu-images-cdn.wolt.com/menu-images/5f1ec3d274251b1cf6a58411/3bf863cc-d589-11ea-80bf-4221e6cb8fe7_pulled_pork.jpeg width=300>\n",
       "    </div>\n",
       "</div>\n",
       "    "
      ],
      "text/plain": [
       "<IPython.core.display.HTML object>"
      ]
     },
     "metadata": {},
     "output_type": "display_data"
    },
    {
     "data": {
      "text/html": [
       "\n",
       "<div style='display:flex;'>\n",
       "    <div style=\"margin:40px\">\n",
       "        <p>id: 8994, score: 0.073292375</p><img src=https://wolt-menu-images-cdn.wolt.com/menu-images/5fd49ab643303c36fc20713f/c47e8e52-3c6c-11eb-8a6d-aa3958f03f8a_bengan_curry.jpeg width=300>\n",
       "    </div>\n",
       "    <div style=\"margin:40px\">\n",
       "       <p>id: 5468, score: 0.07342416</p><img src=https://wolt-menu-images-cdn.wolt.com/menu-images/5f90330486a7eb0b0bbeff91/817813c2-415c-11eb-adfa-de29dae85c26_img_0054__1_.jpeg width=300>\n",
       "    </div>\n",
       "</div>\n",
       "    "
      ],
      "text/plain": [
       "<IPython.core.display.HTML object>"
      ]
     },
     "metadata": {},
     "output_type": "display_data"
    },
    {
     "data": {
      "text/html": [
       "\n",
       "<div style='display:flex;'>\n",
       "    <div style=\"margin:40px\">\n",
       "        <p>id: 5818, score: 0.07296264</p><img src=https://wolt-menu-images-cdn.wolt.com/menu-images/5fd8de52317a15065208632c/28dcc27e-3f9c-11eb-ad53-0ad32832ea0f_cajun_mac_n_cheese_.jpeg width=300>\n",
       "    </div>\n",
       "    <div style=\"margin:40px\">\n",
       "       <p>id: 8994, score: 0.073292375</p><img src=https://wolt-menu-images-cdn.wolt.com/menu-images/5fd49ab643303c36fc20713f/c47e8e52-3c6c-11eb-8a6d-aa3958f03f8a_bengan_curry.jpeg width=300>\n",
       "    </div>\n",
       "</div>\n",
       "    "
      ],
      "text/plain": [
       "<IPython.core.display.HTML object>"
      ]
     },
     "metadata": {},
     "output_type": "display_data"
    },
    {
     "data": {
      "text/html": [
       "\n",
       "<div style='display:flex;'>\n",
       "    <div style=\"margin:40px\">\n",
       "        <p>id: 1694, score: 0.072208405</p><img src=https://wolt-menu-images-cdn.wolt.com/menu-images/5f1eb48015900afd6ad3e348/673e9156-d006-11ea-af65-5eda2315f700__mg_3415_peanut_chicken_bowl.jpeg width=300>\n",
       "    </div>\n",
       "    <div style=\"margin:40px\">\n",
       "       <p>id: 5818, score: 0.07296264</p><img src=https://wolt-menu-images-cdn.wolt.com/menu-images/5fd8de52317a15065208632c/28dcc27e-3f9c-11eb-ad53-0ad32832ea0f_cajun_mac_n_cheese_.jpeg width=300>\n",
       "    </div>\n",
       "</div>\n",
       "    "
      ],
      "text/plain": [
       "<IPython.core.display.HTML object>"
      ]
     },
     "metadata": {},
     "output_type": "display_data"
    }
   ],
   "source": [
    "from IPython.display import Image, HTML\n",
    "\n",
    "display(HTML(f\"\"\"\n",
    "<div style='display:flex;'>\n",
    "    <div style=\"margin:40px\">\n",
    "        <h1>Custom reco (graph)</h1><img  width=300 height=0>\n",
    "    </div>\n",
    "    <div style=\"margin:40px\">\n",
    "        <h1>Custom reco (full-scan)</h1><img  width=300 height=0>\n",
    "    </div>\n",
    "    <div style=\"margin:40px\">\n",
    "        <h1>Current reco</h1><img  width=300 height=0>\n",
    "    </div>\n",
    "</div>\n",
    "\"\"\"))\n",
    "\n",
    "for graph_point, plain_point in zip(graph, plain):\n",
    "    graph_id = graph_point[\"id\"]\n",
    "    graph_score = (graph_point[\"score\"])\n",
    "    graph_image = (graph_point[\"payload\"]['image'])\n",
    "    \n",
    "    plain_id = plain_point[\"id\"]\n",
    "    plain_score = (plain_point[\"score\"])\n",
    "    plain_image = (plain_point[\"payload\"]['image'])\n",
    "    \n",
    "    display(HTML(f\"\"\"\n",
    "<div style='display:flex;'>\n",
    "    <div style=\"margin:40px\">\n",
    "        <p>id: {graph_id}, score: {graph_score}</p><img src={graph_image} width=300>\n",
    "    </div>\n",
    "    <div style=\"margin:40px\">\n",
    "       <p>id: {plain_id}, score: {plain_score}</p><img src={plain_image} width=300>\n",
    "    </div>\n",
    "</div>\n",
    "    \"\"\"))"
   ]
  },
  {
   "cell_type": "code",
   "execution_count": null,
   "metadata": {},
   "outputs": [],
   "source": []
  }
 ],
 "metadata": {
  "kernelspec": {
   "display_name": "base",
   "language": "python",
   "name": "python3"
  },
  "language_info": {
   "codemirror_mode": {
    "name": "ipython",
    "version": 3
   },
   "file_extension": ".py",
   "mimetype": "text/x-python",
   "name": "python",
   "nbconvert_exporter": "python",
   "pygments_lexer": "ipython3",
   "version": "3.10.12"
  },
  "orig_nbformat": 4
 },
 "nbformat": 4,
 "nbformat_minor": 2
}
