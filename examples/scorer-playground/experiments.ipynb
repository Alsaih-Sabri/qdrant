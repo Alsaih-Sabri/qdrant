{
 "cells": [
  {
   "cell_type": "code",
   "execution_count": 272,
   "metadata": {},
   "outputs": [],
   "source": [
    "import subprocess\n",
    "import json\n",
    "import os\n",
    "import time\n",
    "\n",
    "from qdrant_client import QdrantClient\n",
    "\n",
    "def reco(positives=[], negatives=[], top=10):\n",
    "    positives_cli = []\n",
    "    negatives_cli = []\n",
    "    \n",
    "    if len(positives) > 0:\n",
    "        positives_cli = ['--positives', ','.join([str(p) for p in positives])]\n",
    "    \n",
    "    if len(negatives) > 0:\n",
    "        negatives_cli = ['--negatives', ','.join([str(n) for n in negatives])]\n",
    "        \n",
    "    result = subprocess.run([\n",
    "        'target/debug/scorer-playground',\n",
    "        # Add positive and negative ids here\n",
    "        *positives_cli,\n",
    "        *negatives_cli,\n",
    "        '--top', str(top),\n",
    "        ], stdout=subprocess.PIPE).stdout.decode('utf-8')\n",
    "    \n",
    "    graph_scored_points = json.loads(result)\n",
    "    \n",
    "    result = subprocess.run([\n",
    "        'target/debug/scorer-playground',\n",
    "        # Add positive and negative ids here\n",
    "        *positives_cli,\n",
    "        *negatives_cli,\n",
    "        '--full-scan',\n",
    "        '--top', str(top),\n",
    "        ], stdout=subprocess.PIPE).stdout.decode('utf-8')\n",
    "    \n",
    "    plain_scored_points = json.loads(result)\n",
    "    \n",
    "    # turn qdrant on\n",
    "    os.system(\"cd ../.. && $(target/debug/qdrant) &\")\n",
    "    \n",
    "    time.sleep(3)\n",
    "    \n",
    "    print('qdrant active on the background')\n",
    "    \n",
    "    qdrant_client = QdrantClient(\"localhost\", port=6333)\n",
    "    \n",
    "    client_scored_points = qdrant_client.recommend(\n",
    "        collection_name=\"food-plain\",\n",
    "        negative=negatives,\n",
    "        positive=positives,\n",
    "        limit=10,\n",
    "    )\n",
    "    \n",
    "    # turn qdrant off\n",
    "    !kill -9 $(pidof qdrant)\n",
    "    print('qdrant killed')\n",
    "    \n",
    "    \n",
    "    \n",
    "    return (graph_scored_points, plain_scored_points, client_scored_points)"
   ]
  },
  {
   "cell_type": "code",
   "execution_count": 275,
   "metadata": {},
   "outputs": [
    {
     "name": "stdout",
     "output_type": "stream",
     "text": [
      "qdrant active on the background\n",
      "qdrant killed\n"
     ]
    },
    {
     "name": "stderr",
     "output_type": "stream",
     "text": [
      "sh: _: command not found\n"
     ]
    }
   ],
   "source": [
    "(graph, plain, client) = reco(\n",
    "    positives=[3271],\n",
    "    negatives=[1341]\n",
    ")"
   ]
  },
  {
   "cell_type": "code",
   "execution_count": 276,
   "metadata": {},
   "outputs": [
    {
     "data": {
      "text/html": [
       "\n",
       "<div style='display:flex;'>\n",
       "    <div style=\"margin:40px\">\n",
       "        <h1>Custom reco (graph)</h1><img  width=300 height=0>\n",
       "    </div>\n",
       "    <div style=\"margin:40px\">\n",
       "        <h1>Custom reco (full-scan)</h1><img  width=300 height=0>\n",
       "    </div>\n",
       "    <div style=\"margin:40px\">\n",
       "        <h1>Current reco</h1><img  width=300 height=0>\n",
       "    </div>\n",
       "</div>\n"
      ],
      "text/plain": [
       "<IPython.core.display.HTML object>"
      ]
     },
     "metadata": {},
     "output_type": "display_data"
    },
    {
     "data": {
      "text/html": [
       "\n",
       "<div style='display:flex;'>\n",
       "    <div style=\"margin:40px\">\n",
       "        <p>id: 3271, score: 0.1341011</p><img src=https://wolt-menu-images-cdn.wolt.com/menu-images/5f6dbb79a755e75d0f1bacb9/a841d9ae-07d5-11eb-a3bc-2a2e52db7625_artischocken_salat.jpeg width=300>\n",
       "    </div>\n",
       "    <div style=\"margin:40px\">\n",
       "       <p>id: 3271, score: 0.1341011</p><img src=https://wolt-menu-images-cdn.wolt.com/menu-images/5f6dbb79a755e75d0f1bacb9/a841d9ae-07d5-11eb-a3bc-2a2e52db7625_artischocken_salat.jpeg width=300>\n",
       "    </div>\n",
       "    <div style=\"margin:40px\">\n",
       "       <p>id: 637, score: 0.8357695</p><img src=https://wolt-menu-images-cdn.wolt.com/menu-images/5f6dbb79a755e75d0f1bacb9/82ee946c-07d5-11eb-a388-82785bd86dad_gemischter_salat_.jpeg width=300>\n",
       "    </div>\n",
       "</div>\n",
       "    "
      ],
      "text/plain": [
       "<IPython.core.display.HTML object>"
      ]
     },
     "metadata": {},
     "output_type": "display_data"
    },
    {
     "data": {
      "text/html": [
       "\n",
       "<div style='display:flex;'>\n",
       "    <div style=\"margin:40px\">\n",
       "        <p>id: 11783, score: 0.10583198</p><img src=https://wolt-menu-images-cdn.wolt.com/menu-images/5f1168bf26b3cd9af17bdc7e/4c98cc98-4a92-11eb-8fb0-76f7fe59c927_624.jpeg width=300>\n",
       "    </div>\n",
       "    <div style=\"margin:40px\">\n",
       "       <p>id: 11783, score: 0.10583198</p><img src=https://wolt-menu-images-cdn.wolt.com/menu-images/5f1168bf26b3cd9af17bdc7e/4c98cc98-4a92-11eb-8fb0-76f7fe59c927_624.jpeg width=300>\n",
       "    </div>\n",
       "    <div style=\"margin:40px\">\n",
       "       <p>id: 8304, score: 0.8013549</p><img src=https://wolt-menu-images-cdn.wolt.com/menu-images/5f6dbb79a755e75d0f1bacb9/a117e484-07d5-11eb-87e7-c6c0afcefffd_fitness_salat.jpeg width=300>\n",
       "    </div>\n",
       "</div>\n",
       "    "
      ],
      "text/plain": [
       "<IPython.core.display.HTML object>"
      ]
     },
     "metadata": {},
     "output_type": "display_data"
    },
    {
     "data": {
      "text/html": [
       "\n",
       "<div style='display:flex;'>\n",
       "    <div style=\"margin:40px\">\n",
       "        <p>id: 12434, score: 0.104512334</p><img src=https://wolt-menu-images-cdn.wolt.com/menu-images/5f9aafffce8aac7e37db26c3/56e5527a-3dea-11eb-ad8e-86546ab25d75_rice_mix_tofu.jpeg width=300>\n",
       "    </div>\n",
       "    <div style=\"margin:40px\">\n",
       "       <p>id: 12434, score: 0.104512334</p><img src=https://wolt-menu-images-cdn.wolt.com/menu-images/5f9aafffce8aac7e37db26c3/56e5527a-3dea-11eb-ad8e-86546ab25d75_rice_mix_tofu.jpeg width=300>\n",
       "    </div>\n",
       "    <div style=\"margin:40px\">\n",
       "       <p>id: 12434, score: 0.77451354</p><img src=https://wolt-menu-images-cdn.wolt.com/menu-images/5f9aafffce8aac7e37db26c3/56e5527a-3dea-11eb-ad8e-86546ab25d75_rice_mix_tofu.jpeg width=300>\n",
       "    </div>\n",
       "</div>\n",
       "    "
      ],
      "text/plain": [
       "<IPython.core.display.HTML object>"
      ]
     },
     "metadata": {},
     "output_type": "display_data"
    },
    {
     "data": {
      "text/html": [
       "\n",
       "<div style='display:flex;'>\n",
       "    <div style=\"margin:40px\">\n",
       "        <p>id: 8487, score: 0.10372263</p><img src=https://wolt-menu-images-cdn.wolt.com/menu-images/5f1168bf26b3cd9af17bdc7e/108b1c88-4a92-11eb-8394-c64f40cf5170_611.jpeg width=300>\n",
       "    </div>\n",
       "    <div style=\"margin:40px\">\n",
       "       <p>id: 8487, score: 0.10372263</p><img src=https://wolt-menu-images-cdn.wolt.com/menu-images/5f1168bf26b3cd9af17bdc7e/108b1c88-4a92-11eb-8394-c64f40cf5170_611.jpeg width=300>\n",
       "    </div>\n",
       "    <div style=\"margin:40px\">\n",
       "       <p>id: 2272, score: 0.77096176</p><img src=https://wolt-menu-images-cdn.wolt.com/menu-images/5fa1603e52fd690a08766812/49267c72-1f40-11eb-b82b-9237732e0c90_pho_salat.jpeg width=300>\n",
       "    </div>\n",
       "</div>\n",
       "    "
      ],
      "text/plain": [
       "<IPython.core.display.HTML object>"
      ]
     },
     "metadata": {},
     "output_type": "display_data"
    },
    {
     "data": {
      "text/html": [
       "\n",
       "<div style='display:flex;'>\n",
       "    <div style=\"margin:40px\">\n",
       "        <p>id: 8102, score: 0.102265835</p><img src=https://wolt-menu-images-cdn.wolt.com/menu-images/5f1168bf26b3cd9af17bdc7e/4616d3ce-4a92-11eb-9843-b2d0148a4c63_623.jpeg width=300>\n",
       "    </div>\n",
       "    <div style=\"margin:40px\">\n",
       "       <p>id: 8102, score: 0.102265835</p><img src=https://wolt-menu-images-cdn.wolt.com/menu-images/5f1168bf26b3cd9af17bdc7e/4616d3ce-4a92-11eb-9843-b2d0148a4c63_623.jpeg width=300>\n",
       "    </div>\n",
       "    <div style=\"margin:40px\">\n",
       "       <p>id: 13255, score: 0.76970845</p><img src=https://wolt-menu-images-cdn.wolt.com/menu-images/5f9aafffce8aac7e37db26c3/5c494de8-3dea-11eb-b277-4a4f8afe5d08_rice_mix_seitan.jpeg width=300>\n",
       "    </div>\n",
       "</div>\n",
       "    "
      ],
      "text/plain": [
       "<IPython.core.display.HTML object>"
      ]
     },
     "metadata": {},
     "output_type": "display_data"
    },
    {
     "data": {
      "text/html": [
       "\n",
       "<div style='display:flex;'>\n",
       "    <div style=\"margin:40px\">\n",
       "        <p>id: 4644, score: 0.10225129</p><img src=https://wolt-menu-images-cdn.wolt.com/menu-images/5fb66ab451b71d6bb7a2afee/5ed2bf04-575d-11eb-8afd-ea9de9003955_kids_menu_mit_streifen.jpeg width=300>\n",
       "    </div>\n",
       "    <div style=\"margin:40px\">\n",
       "       <p>id: 4644, score: 0.10225129</p><img src=https://wolt-menu-images-cdn.wolt.com/menu-images/5fb66ab451b71d6bb7a2afee/5ed2bf04-575d-11eb-8afd-ea9de9003955_kids_menu_mit_streifen.jpeg width=300>\n",
       "    </div>\n",
       "    <div style=\"margin:40px\">\n",
       "       <p>id: 8471, score: 0.7493564</p><img src=https://wolt-menu-images-cdn.wolt.com/menu-images/5f5769bc65a071ff1630dead/663e4504-fbf7-11ea-99c1-8e0e5fed1d53_fire_tiger_lovestory_noodlepan_ga_2049.jpeg width=300>\n",
       "    </div>\n",
       "</div>\n",
       "    "
      ],
      "text/plain": [
       "<IPython.core.display.HTML object>"
      ]
     },
     "metadata": {},
     "output_type": "display_data"
    },
    {
     "data": {
      "text/html": [
       "\n",
       "<div style='display:flex;'>\n",
       "    <div style=\"margin:40px\">\n",
       "        <p>id: 2272, score: 0.09521419</p><img src=https://wolt-menu-images-cdn.wolt.com/menu-images/5fa1603e52fd690a08766812/49267c72-1f40-11eb-b82b-9237732e0c90_pho_salat.jpeg width=300>\n",
       "    </div>\n",
       "    <div style=\"margin:40px\">\n",
       "       <p>id: 2272, score: 0.09521419</p><img src=https://wolt-menu-images-cdn.wolt.com/menu-images/5fa1603e52fd690a08766812/49267c72-1f40-11eb-b82b-9237732e0c90_pho_salat.jpeg width=300>\n",
       "    </div>\n",
       "    <div style=\"margin:40px\">\n",
       "       <p>id: 906, score: 0.7485707</p><img src=https://wolt-menu-images-cdn.wolt.com/menu-images/5fd1c1dcb15eb67abb9100ac/c1d0024a-3bb7-11eb-b87f-9e3ebda0d6d8_mains_nudeln_phad_si_lew.jpeg width=300>\n",
       "    </div>\n",
       "</div>\n",
       "    "
      ],
      "text/plain": [
       "<IPython.core.display.HTML object>"
      ]
     },
     "metadata": {},
     "output_type": "display_data"
    },
    {
     "data": {
      "text/html": [
       "\n",
       "<div style='display:flex;'>\n",
       "    <div style=\"margin:40px\">\n",
       "        <p>id: 12503, score: 0.09384096</p><img src=https://wolt-menu-images-cdn.wolt.com/menu-images/5f1168bf26b3cd9af17bdc7e/37885544-4a92-11eb-83d1-523bb07c3a5b_621.jpeg width=300>\n",
       "    </div>\n",
       "    <div style=\"margin:40px\">\n",
       "       <p>id: 12503, score: 0.09384096</p><img src=https://wolt-menu-images-cdn.wolt.com/menu-images/5f1168bf26b3cd9af17bdc7e/37885544-4a92-11eb-83d1-523bb07c3a5b_621.jpeg width=300>\n",
       "    </div>\n",
       "    <div style=\"margin:40px\">\n",
       "       <p>id: 4288, score: 0.74837816</p><img src=https://wolt-menu-images-cdn.wolt.com/menu-images/5fb8eaee3c84d2f530020de6/b2a029b0-2d6d-11eb-a65f-864e9c821754_bibimbap_honey_bbq_beef.jpeg width=300>\n",
       "    </div>\n",
       "</div>\n",
       "    "
      ],
      "text/plain": [
       "<IPython.core.display.HTML object>"
      ]
     },
     "metadata": {},
     "output_type": "display_data"
    },
    {
     "data": {
      "text/html": [
       "\n",
       "<div style='display:flex;'>\n",
       "    <div style=\"margin:40px\">\n",
       "        <p>id: 12812, score: 0.09350854</p><img src=https://wolt-menu-images-cdn.wolt.com/menu-images/5f1168bf26b3cd9af17bdc7e/3f9370ac-4a92-11eb-979c-ba63a84bdaba_622.jpeg width=300>\n",
       "    </div>\n",
       "    <div style=\"margin:40px\">\n",
       "       <p>id: 12812, score: 0.09350854</p><img src=https://wolt-menu-images-cdn.wolt.com/menu-images/5f1168bf26b3cd9af17bdc7e/3f9370ac-4a92-11eb-979c-ba63a84bdaba_622.jpeg width=300>\n",
       "    </div>\n",
       "    <div style=\"margin:40px\">\n",
       "       <p>id: 5873, score: 0.7464745</p><img src=https://wolt-menu-images-cdn.wolt.com/menu-images/5fe1c838e1d7dcb5af1c43d8/05fcf580-450f-11eb-90f5-7620d3c3f364_tunas_gemusekebap_doner_teller_1149.jpeg width=300>\n",
       "    </div>\n",
       "</div>\n",
       "    "
      ],
      "text/plain": [
       "<IPython.core.display.HTML object>"
      ]
     },
     "metadata": {},
     "output_type": "display_data"
    },
    {
     "data": {
      "text/html": [
       "\n",
       "<div style='display:flex;'>\n",
       "    <div style=\"margin:40px\">\n",
       "        <p>id: 5560, score: 0.09279364</p><img src=https://wolt-menu-images-cdn.wolt.com/menu-images/5face22898939dc2a566d083/659b622c-3319-11eb-90d2-ba172b0e8007_creamy_tofu.jpeg width=300>\n",
       "    </div>\n",
       "    <div style=\"margin:40px\">\n",
       "       <p>id: 3949, score: 0.09300518</p><img src=https://wolt-menu-images-cdn.wolt.com/menu-images/5fe1f595379a8116608d701d/7273248e-4535-11eb-a8be-f67ee14073b7_os_kitchen_os__kitchen_burger_kreation_0929.jpeg width=300>\n",
       "    </div>\n",
       "    <div style=\"margin:40px\">\n",
       "       <p>id: 5829, score: 0.7462581</p><img src=https://wolt-menu-images-cdn.wolt.com/menu-images/5fa1603e52fd690a08766812/fa7a31b8-1f3f-11eb-b243-66302fc0dac2_noodles_hot_rong_soba.jpeg width=300>\n",
       "    </div>\n",
       "</div>\n",
       "    "
      ],
      "text/plain": [
       "<IPython.core.display.HTML object>"
      ]
     },
     "metadata": {},
     "output_type": "display_data"
    }
   ],
   "source": [
    "from IPython.display import Image, HTML\n",
    "\n",
    "display(HTML(f\"\"\"\n",
    "<div style='display:flex;'>\n",
    "    <div style=\"margin:40px\">\n",
    "        <h1>Custom reco (graph)</h1><img  width=300 height=0>\n",
    "    </div>\n",
    "    <div style=\"margin:40px\">\n",
    "        <h1>Custom reco (full-scan)</h1><img  width=300 height=0>\n",
    "    </div>\n",
    "    <div style=\"margin:40px\">\n",
    "        <h1>Current reco</h1><img  width=300 height=0>\n",
    "    </div>\n",
    "</div>\n",
    "\"\"\"))\n",
    "\n",
    "for graph_point, plain_point, client_point in zip(graph, plain, client):\n",
    "    graph_id = graph_point[\"id\"]\n",
    "    graph_score = (graph_point[\"score\"])\n",
    "    graph_image = (graph_point[\"payload\"]['image'])\n",
    "    \n",
    "    plain_id = plain_point[\"id\"]\n",
    "    plain_score = (plain_point[\"score\"])\n",
    "    plain_image = (plain_point[\"payload\"]['image'])\n",
    "    \n",
    "    client_id = client_point.id\n",
    "    client_score = client_point.score\n",
    "    client_image = client_point.payload['image']\n",
    "    \n",
    "    display(HTML(f\"\"\"\n",
    "<div style='display:flex;'>\n",
    "    <div style=\"margin:40px\">\n",
    "        <p>id: {graph_id}, score: {graph_score}</p><img src={graph_image} width=300>\n",
    "    </div>\n",
    "    <div style=\"margin:40px\">\n",
    "       <p>id: {plain_id}, score: {plain_score}</p><img src={plain_image} width=300>\n",
    "    </div>\n",
    "    <div style=\"margin:40px\">\n",
    "       <p>id: {client_id}, score: {client_score}</p><img src={client_image} width=300>\n",
    "    </div>\n",
    "</div>\n",
    "    \"\"\"))"
   ]
  },
  {
   "cell_type": "code",
   "execution_count": null,
   "metadata": {},
   "outputs": [],
   "source": []
  },
  {
   "cell_type": "code",
   "execution_count": null,
   "metadata": {},
   "outputs": [],
   "source": []
  }
 ],
 "metadata": {
  "kernelspec": {
   "display_name": "base",
   "language": "python",
   "name": "python3"
  },
  "language_info": {
   "codemirror_mode": {
    "name": "ipython",
    "version": 3
   },
   "file_extension": ".py",
   "mimetype": "text/x-python",
   "name": "python",
   "nbconvert_exporter": "python",
   "pygments_lexer": "ipython3",
   "version": "3.10.12"
  },
  "orig_nbformat": 4
 },
 "nbformat": 4,
 "nbformat_minor": 2
}
